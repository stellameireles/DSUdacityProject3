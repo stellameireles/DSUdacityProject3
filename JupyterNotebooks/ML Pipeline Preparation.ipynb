{
 "cells": [
  {
   "cell_type": "markdown",
   "metadata": {},
   "source": [
    "# ML Pipeline Preparation\n",
    "Follow the instructions below to help you create your ML pipeline.\n",
    "### 1. Import libraries and load data from database.\n",
    "- Import Python libraries\n",
    "- Load dataset from database with [`read_sql_table`](https://pandas.pydata.org/pandas-docs/stable/generated/pandas.read_sql_table.html)\n",
    "- Define feature and target variables X and Y"
   ]
  },
  {
   "cell_type": "code",
   "execution_count": 1,
   "metadata": {},
   "outputs": [
    {
     "name": "stdout",
     "output_type": "stream",
     "text": [
      "[nltk_data] Downloading package punkt to /root/nltk_data...\n",
      "[nltk_data]   Package punkt is already up-to-date!\n",
      "[nltk_data] Downloading package wordnet to /root/nltk_data...\n",
      "[nltk_data]   Package wordnet is already up-to-date!\n"
     ]
    }
   ],
   "source": [
    "# import libraries\n",
    "import nltk\n",
    "nltk.download(['punkt', 'wordnet'])\n",
    "\n",
    "import re\n",
    "import numpy as np\n",
    "import pandas as pd\n",
    "from nltk.tokenize import word_tokenize\n",
    "from nltk.stem import WordNetLemmatizer\n",
    "from sklearn.metrics import classification_report, accuracy_score\n",
    "from sklearn.pipeline import Pipeline\n",
    "from sklearn.metrics import confusion_matrix\n",
    "from sklearn.model_selection import train_test_split\n",
    "from sklearn.ensemble import RandomForestClassifier\n",
    "from sklearn.feature_extraction.text import CountVectorizer, TfidfTransformer\n",
    "\n",
    "\n",
    "\n",
    "from sqlalchemy import create_engine\n",
    "\n",
    "\n",
    "\n",
    "from sklearn.model_selection import GridSearchCV\n",
    "from sklearn.multioutput import MultiOutputClassifier\n",
    "from sklearn.metrics import confusion_matrix\n",
    "import pickle\n",
    "from nltk.stem.porter import PorterStemmer\n",
    "\n",
    "\n"
   ]
  },
  {
   "cell_type": "code",
   "execution_count": 2,
   "metadata": {},
   "outputs": [],
   "source": [
    "# load data from database\n",
    "engine = create_engine('sqlite:///MessagesDB.db')\n",
    "df = pd.read_sql(\"SELECT * FROM MessagesTB\", engine)\n",
    "X = df['message']\n",
    "y = df.iloc[:,4:]\n",
    "y=y.astype('int') \n",
    "\n",
    "category_names = list(df.columns[4:])"
   ]
  },
  {
   "cell_type": "code",
   "execution_count": 3,
   "metadata": {},
   "outputs": [
    {
     "data": {
      "text/plain": [
       "['related',\n",
       " 'request',\n",
       " 'offer',\n",
       " 'aid_related',\n",
       " 'medical_help',\n",
       " 'medical_products',\n",
       " 'search_and_rescue',\n",
       " 'security',\n",
       " 'military',\n",
       " 'child_alone',\n",
       " 'water',\n",
       " 'food',\n",
       " 'shelter',\n",
       " 'clothing',\n",
       " 'money',\n",
       " 'missing_people',\n",
       " 'refugees',\n",
       " 'death',\n",
       " 'other_aid',\n",
       " 'infrastructure_related',\n",
       " 'transport',\n",
       " 'buildings',\n",
       " 'electricity',\n",
       " 'tools',\n",
       " 'hospitals',\n",
       " 'shops',\n",
       " 'aid_centers',\n",
       " 'other_infrastructure',\n",
       " 'weather_related',\n",
       " 'floods',\n",
       " 'storm',\n",
       " 'fire',\n",
       " 'earthquake',\n",
       " 'cold',\n",
       " 'other_weather',\n",
       " 'direct_report']"
      ]
     },
     "execution_count": 3,
     "metadata": {},
     "output_type": "execute_result"
    }
   ],
   "source": [
    "category_names"
   ]
  },
  {
   "cell_type": "markdown",
   "metadata": {},
   "source": [
    "### 2. Write a tokenization function to process your text data"
   ]
  },
  {
   "cell_type": "code",
   "execution_count": 4,
   "metadata": {},
   "outputs": [],
   "source": [
    "def tokenize(text):\n",
    "    \n",
    "    #Remove punctuation\n",
    "    text = re.sub(r'[^a-zA-Z0-9]', ' ',text)\n",
    "    \n",
    "    \n",
    "    tokens = word_tokenize(text)\n",
    "    lemmatizer = WordNetLemmatizer()\n",
    "\n",
    "    clean_tokens = []\n",
    "    \n",
    "    for tok in tokens:\n",
    "    #Normalize text - (lower case and remove blank spaces)\n",
    "        clean_tok = lemmatizer.lemmatize(tok).lower().strip()\n",
    "        clean_tokens.append(clean_tok)\n",
    "\n",
    "    return clean_tokens\n",
    "  "
   ]
  },
  {
   "cell_type": "markdown",
   "metadata": {},
   "source": [
    "### 3. Build a machine learning pipeline\n",
    "This machine pipeline should take in the `message` column as input and output classification results on the other 36 categories in the dataset. You may find the [MultiOutputClassifier](http://scikit-learn.org/stable/modules/generated/sklearn.multioutput.MultiOutputClassifier.html) helpful for predicting multiple target variables."
   ]
  },
  {
   "cell_type": "code",
   "execution_count": 22,
   "metadata": {},
   "outputs": [],
   "source": [
    "pipeline = Pipeline([\n",
    "    ('vect', CountVectorizer(tokenizer=tokenize)),\n",
    "    ('tfidf', TfidfTransformer()),\n",
    "    ('clf', MultiOutputClassifier(RandomForestClassifier()))\n",
    "])"
   ]
  },
  {
   "cell_type": "markdown",
   "metadata": {},
   "source": [
    "### 4. Train pipeline\n",
    "- Split data into train and test sets\n",
    "- Train pipeline"
   ]
  },
  {
   "cell_type": "code",
   "execution_count": 23,
   "metadata": {},
   "outputs": [],
   "source": [
    "# Split data into train and test sets\n",
    "X_train, X_test, y_train, y_test = train_test_split(X, y, test_size=0.33, random_state=42)"
   ]
  },
  {
   "cell_type": "code",
   "execution_count": 24,
   "metadata": {},
   "outputs": [
    {
     "data": {
      "text/plain": [
       "Pipeline(memory=None,\n",
       "     steps=[('vect', CountVectorizer(analyzer='word', binary=False, decode_error='strict',\n",
       "        dtype=<class 'numpy.int64'>, encoding='utf-8', input='content',\n",
       "        lowercase=True, max_df=1.0, max_features=None, min_df=1,\n",
       "        ngram_range=(1, 1), preprocessor=None, stop_words=None,\n",
       "        strip...oob_score=False, random_state=None, verbose=0,\n",
       "            warm_start=False),\n",
       "           n_jobs=1))])"
      ]
     },
     "execution_count": 24,
     "metadata": {},
     "output_type": "execute_result"
    }
   ],
   "source": [
    "#Train pipeline\n",
    "pipeline.fit(X_train, y_train)\n"
   ]
  },
  {
   "cell_type": "code",
   "execution_count": 25,
   "metadata": {},
   "outputs": [
    {
     "data": {
      "text/plain": [
       "array([[1, 0, 0, ..., 0, 0, 0],\n",
       "       [1, 0, 0, ..., 0, 0, 0],\n",
       "       [1, 0, 0, ..., 0, 0, 0],\n",
       "       ..., \n",
       "       [0, 0, 0, ..., 0, 0, 0],\n",
       "       [1, 0, 0, ..., 0, 0, 0],\n",
       "       [0, 0, 0, ..., 0, 0, 0]])"
      ]
     },
     "execution_count": 25,
     "metadata": {},
     "output_type": "execute_result"
    }
   ],
   "source": [
    "y_pred = pipeline.predict(X_test)\n",
    "y_pred"
   ]
  },
  {
   "cell_type": "code",
   "execution_count": 9,
   "metadata": {},
   "outputs": [
    {
     "data": {
      "text/plain": [
       "Pipeline(memory=None,\n",
       "     steps=[('vect', CountVectorizer(analyzer='word', binary=False, decode_error='strict',\n",
       "        dtype=<class 'numpy.int64'>, encoding='utf-8', input='content',\n",
       "        lowercase=True, max_df=1.0, max_features=None, min_df=1,\n",
       "        ngram_range=(1, 1), preprocessor=None, stop_words=None,\n",
       "        strip...oob_score=False, random_state=None, verbose=0,\n",
       "            warm_start=False),\n",
       "           n_jobs=1))])"
      ]
     },
     "execution_count": 9,
     "metadata": {},
     "output_type": "execute_result"
    }
   ],
   "source": [
    "#X_train, X_test, y_train, y_test = train_test_split(X, y, test_size=0.33, random_state=42)\n",
    "#pipeline.fit(X_train, y_train)"
   ]
  },
  {
   "cell_type": "markdown",
   "metadata": {},
   "source": [
    "### 5. Test your model\n",
    "Report the f1 score, precision and recall for each output category of the dataset. You can do this by iterating through the columns and calling sklearn's `classification_report` on each."
   ]
  },
  {
   "cell_type": "code",
   "execution_count": 10,
   "metadata": {},
   "outputs": [
    {
     "name": "stdout",
     "output_type": "stream",
     "text": [
      "Category: related \n",
      "             precision    recall  f1-score   support\n",
      "\n",
      "          0       0.61      0.35      0.44      2054\n",
      "          1       0.81      0.93      0.87      6534\n",
      "          2       0.67      0.12      0.21        64\n",
      "\n",
      "avg / total       0.76      0.78      0.76      8652\n",
      "\n",
      "Accuracy 0.7845584835876098\n",
      "\n",
      "\n",
      "Category: request \n",
      "             precision    recall  f1-score   support\n",
      "\n",
      "          0       0.88      0.98      0.93      7180\n",
      "          1       0.82      0.36      0.50      1472\n",
      "\n",
      "avg / total       0.87      0.88      0.86      8652\n",
      "\n",
      "Accuracy 0.8776005547850209\n",
      "\n",
      "\n",
      "Category: offer \n",
      "             precision    recall  f1-score   support\n",
      "\n",
      "          0       1.00      1.00      1.00      8614\n",
      "          1       0.00      0.00      0.00        38\n",
      "\n",
      "avg / total       0.99      1.00      0.99      8652\n",
      "\n",
      "Accuracy 0.9956079519186315\n",
      "\n",
      "\n",
      "Category: aid_related \n",
      "             precision    recall  f1-score   support\n",
      "\n",
      "          0       0.73      0.88      0.80      5107\n",
      "          1       0.75      0.54      0.63      3545\n",
      "\n",
      "avg / total       0.74      0.74      0.73      8652\n",
      "\n",
      "Accuracy 0.7387887193712437\n",
      "\n",
      "\n",
      "Category: medical_help \n",
      "             precision    recall  f1-score   support\n",
      "\n",
      "          0       0.93      0.99      0.96      7951\n",
      "          1       0.60      0.10      0.16       701\n",
      "\n",
      "avg / total       0.90      0.92      0.89      8652\n",
      "\n",
      "Accuracy 0.9215210355987055\n",
      "\n",
      "\n",
      "Category: medical_products \n",
      "             precision    recall  f1-score   support\n",
      "\n",
      "          0       0.95      1.00      0.97      8206\n",
      "          1       0.65      0.05      0.09       446\n",
      "\n",
      "avg / total       0.94      0.95      0.93      8652\n",
      "\n",
      "Accuracy 0.9496070272769301\n",
      "\n",
      "\n",
      "Category: search_and_rescue \n",
      "             precision    recall  f1-score   support\n",
      "\n",
      "          0       0.97      1.00      0.99      8426\n",
      "          1       0.62      0.02      0.04       226\n",
      "\n",
      "avg / total       0.97      0.97      0.96      8652\n",
      "\n",
      "Accuracy 0.9741100323624595\n",
      "\n",
      "\n",
      "Category: security \n",
      "             precision    recall  f1-score   support\n",
      "\n",
      "          0       0.98      1.00      0.99      8492\n",
      "          1       0.00      0.00      0.00       160\n",
      "\n",
      "avg / total       0.96      0.98      0.97      8652\n",
      "\n",
      "Accuracy 0.9811604253351827\n",
      "\n",
      "\n",
      "Category: military \n",
      "             precision    recall  f1-score   support\n",
      "\n",
      "          0       0.97      1.00      0.98      8385\n",
      "          1       0.70      0.06      0.11       267\n",
      "\n",
      "avg / total       0.96      0.97      0.96      8652\n",
      "\n",
      "Accuracy 0.9701803051317615\n",
      "\n",
      "\n",
      "Category: child_alone \n",
      "             precision    recall  f1-score   support\n",
      "\n",
      "          0       1.00      1.00      1.00      8652\n",
      "\n",
      "avg / total       1.00      1.00      1.00      8652\n",
      "\n",
      "Accuracy 1.0\n",
      "\n",
      "\n",
      "Category: water \n",
      "             precision    recall  f1-score   support\n",
      "\n",
      "          0       0.95      1.00      0.97      8109\n",
      "          1       0.90      0.20      0.33       543\n",
      "\n",
      "avg / total       0.95      0.95      0.93      8652\n",
      "\n",
      "Accuracy 0.9485668053629218\n",
      "\n",
      "\n",
      "Category: food \n",
      "             precision    recall  f1-score   support\n",
      "\n",
      "          0       0.93      0.99      0.96      7687\n",
      "          1       0.85      0.37      0.52       965\n",
      "\n",
      "avg / total       0.92      0.92      0.91      8652\n",
      "\n",
      "Accuracy 0.9230235783633842\n",
      "\n",
      "\n",
      "Category: shelter \n",
      "             precision    recall  f1-score   support\n",
      "\n",
      "          0       0.93      1.00      0.96      7877\n",
      "          1       0.83      0.20      0.33       775\n",
      "\n",
      "avg / total       0.92      0.92      0.90      8652\n",
      "\n",
      "Accuracy 0.9248728617660656\n",
      "\n",
      "\n",
      "Category: clothing \n",
      "             precision    recall  f1-score   support\n",
      "\n",
      "          0       0.99      1.00      0.99      8525\n",
      "          1       0.89      0.06      0.12       127\n",
      "\n",
      "avg / total       0.98      0.99      0.98      8652\n",
      "\n",
      "Accuracy 0.986130374479889\n",
      "\n",
      "\n",
      "Category: money \n",
      "             precision    recall  f1-score   support\n",
      "\n",
      "          0       0.98      1.00      0.99      8461\n",
      "          1       0.70      0.04      0.07       191\n",
      "\n",
      "avg / total       0.97      0.98      0.97      8652\n",
      "\n",
      "Accuracy 0.9783865002311605\n",
      "\n",
      "\n",
      "Category: missing_people \n",
      "             precision    recall  f1-score   support\n",
      "\n",
      "          0       0.99      1.00      0.99      8548\n",
      "          1       1.00      0.01      0.02       104\n",
      "\n",
      "avg / total       0.99      0.99      0.98      8652\n",
      "\n",
      "Accuracy 0.9880952380952381\n",
      "\n",
      "\n",
      "Category: refugees \n",
      "             precision    recall  f1-score   support\n",
      "\n",
      "          0       0.97      1.00      0.98      8359\n",
      "          1       0.46      0.04      0.08       293\n",
      "\n",
      "avg / total       0.95      0.97      0.95      8652\n",
      "\n",
      "Accuracy 0.9659038372630606\n",
      "\n",
      "\n",
      "Category: death \n",
      "             precision    recall  f1-score   support\n",
      "\n",
      "          0       0.96      1.00      0.98      8246\n",
      "          1       0.84      0.09      0.16       406\n",
      "\n",
      "avg / total       0.95      0.96      0.94      8652\n",
      "\n",
      "Accuracy 0.9565418400369856\n",
      "\n",
      "\n",
      "Category: other_aid \n",
      "             precision    recall  f1-score   support\n",
      "\n",
      "          0       0.87      1.00      0.93      7513\n",
      "          1       0.48      0.02      0.05      1139\n",
      "\n",
      "avg / total       0.82      0.87      0.81      8652\n",
      "\n",
      "Accuracy 0.8681229773462783\n",
      "\n",
      "\n",
      "Category: infrastructure_related \n",
      "             precision    recall  f1-score   support\n",
      "\n",
      "          0       0.93      1.00      0.97      8084\n",
      "          1       0.60      0.01      0.01       568\n",
      "\n",
      "avg / total       0.91      0.93      0.90      8652\n",
      "\n",
      "Accuracy 0.9344660194174758\n",
      "\n",
      "\n",
      "Category: transport \n",
      "             precision    recall  f1-score   support\n",
      "\n",
      "          0       0.96      1.00      0.98      8245\n",
      "          1       0.76      0.08      0.14       407\n",
      "\n",
      "avg / total       0.95      0.96      0.94      8652\n",
      "\n",
      "Accuracy 0.9553860379103097\n",
      "\n",
      "\n",
      "Category: buildings \n",
      "             precision    recall  f1-score   support\n",
      "\n",
      "          0       0.95      1.00      0.98      8211\n",
      "          1       0.86      0.08      0.15       441\n",
      "\n",
      "avg / total       0.95      0.95      0.93      8652\n",
      "\n",
      "Accuracy 0.9526121128062875\n",
      "\n",
      "\n",
      "Category: electricity \n",
      "             precision    recall  f1-score   support\n",
      "\n",
      "          0       0.98      1.00      0.99      8467\n",
      "          1       0.53      0.04      0.08       185\n",
      "\n",
      "avg / total       0.97      0.98      0.97      8652\n",
      "\n",
      "Accuracy 0.9787332408691632\n",
      "\n",
      "\n",
      "Category: tools \n",
      "             precision    recall  f1-score   support\n",
      "\n",
      "          0       0.99      1.00      1.00      8599\n",
      "          1       0.00      0.00      0.00        53\n",
      "\n",
      "avg / total       0.99      0.99      0.99      8652\n",
      "\n",
      "Accuracy 0.9938742487286176\n",
      "\n",
      "\n",
      "Category: hospitals \n",
      "             precision    recall  f1-score   support\n",
      "\n",
      "          0       0.99      1.00      1.00      8567\n",
      "          1       0.00      0.00      0.00        85\n",
      "\n",
      "avg / total       0.98      0.99      0.99      8652\n",
      "\n",
      "Accuracy 0.9901756819232548\n",
      "\n",
      "\n",
      "Category: shops \n",
      "             precision    recall  f1-score   support\n",
      "\n",
      "          0       1.00      1.00      1.00      8618\n",
      "          1       0.00      0.00      0.00        34\n",
      "\n",
      "avg / total       0.99      1.00      0.99      8652\n",
      "\n",
      "Accuracy 0.9960702727693019\n",
      "\n",
      "\n",
      "Category: aid_centers \n",
      "             precision    recall  f1-score   support\n",
      "\n",
      "          0       0.99      1.00      0.99      8537\n",
      "          1       0.00      0.00      0.00       115\n",
      "\n",
      "avg / total       0.97      0.99      0.98      8652\n",
      "\n",
      "Accuracy 0.986708275543227\n",
      "\n",
      "\n",
      "Category: other_infrastructure \n",
      "             precision    recall  f1-score   support\n",
      "\n",
      "          0       0.96      1.00      0.98      8269\n",
      "          1       0.62      0.01      0.03       383\n",
      "\n",
      "avg / total       0.94      0.96      0.94      8652\n",
      "\n",
      "Accuracy 0.9559639389736477\n",
      "\n",
      "\n",
      "Category: weather_related \n",
      "             precision    recall  f1-score   support\n",
      "\n",
      "          0       0.85      0.96      0.90      6262\n",
      "          1       0.85      0.55      0.66      2390\n",
      "\n",
      "avg / total       0.85      0.85      0.84      8652\n",
      "\n",
      "Accuracy 0.8473185390661119\n",
      "\n",
      "\n",
      "Category: floods \n",
      "             precision    recall  f1-score   support\n",
      "\n",
      "          0       0.94      1.00      0.97      7959\n",
      "          1       0.89      0.21      0.34       693\n",
      "\n",
      "avg / total       0.93      0.93      0.92      8652\n",
      "\n",
      "Accuracy 0.9348127600554785\n",
      "\n",
      "\n",
      "Category: storm \n",
      "             precision    recall  f1-score   support\n",
      "\n",
      "          0       0.94      0.99      0.96      7840\n",
      "          1       0.72      0.35      0.47       812\n",
      "\n",
      "avg / total       0.92      0.93      0.91      8652\n",
      "\n",
      "Accuracy 0.9262598243180767\n",
      "\n",
      "\n",
      "Category: fire \n",
      "             precision    recall  f1-score   support\n",
      "\n",
      "          0       0.99      1.00      0.99      8562\n",
      "          1       0.00      0.00      0.00        90\n",
      "\n",
      "avg / total       0.98      0.99      0.98      8652\n",
      "\n",
      "Accuracy 0.9894822006472492\n",
      "\n",
      "\n",
      "Category: earthquake \n",
      "             precision    recall  f1-score   support\n",
      "\n",
      "          0       0.95      0.99      0.97      7865\n",
      "          1       0.86      0.45      0.59       787\n",
      "\n",
      "avg / total       0.94      0.94      0.94      8652\n",
      "\n",
      "Accuracy 0.9433656957928802\n",
      "\n",
      "\n",
      "Category: cold \n",
      "             precision    recall  f1-score   support\n",
      "\n",
      "          0       0.98      1.00      0.99      8465\n",
      "          1       0.71      0.03      0.05       187\n",
      "\n",
      "avg / total       0.97      0.98      0.97      8652\n",
      "\n",
      "Accuracy 0.9787332408691632\n",
      "\n",
      "\n",
      "Category: other_weather \n",
      "             precision    recall  f1-score   support\n",
      "\n",
      "          0       0.95      1.00      0.97      8200\n",
      "          1       0.50      0.02      0.03       452\n",
      "\n",
      "avg / total       0.93      0.95      0.92      8652\n",
      "\n",
      "Accuracy 0.9477577438742487\n",
      "\n",
      "\n",
      "Category: direct_report \n",
      "             precision    recall  f1-score   support\n",
      "\n",
      "          0       0.85      0.98      0.91      6958\n",
      "          1       0.77      0.29      0.43      1694\n",
      "\n",
      "avg / total       0.84      0.84      0.82      8652\n",
      "\n",
      "Accuracy 0.8448913546000925\n",
      "\n",
      "\n"
     ]
    },
    {
     "name": "stderr",
     "output_type": "stream",
     "text": [
      "/opt/conda/lib/python3.6/site-packages/sklearn/metrics/classification.py:1135: UndefinedMetricWarning: Precision and F-score are ill-defined and being set to 0.0 in labels with no predicted samples.\n",
      "  'precision', 'predicted', average, warn_for)\n"
     ]
    },
    {
     "ename": "NameError",
     "evalue": "name 'pipeline_cv' is not defined",
     "output_type": "error",
     "traceback": [
      "\u001b[0;31m---------------------------------------------------------------------------\u001b[0m",
      "\u001b[0;31mNameError\u001b[0m                                 Traceback (most recent call last)",
      "\u001b[0;32m<ipython-input-10-8deef2257e74>\u001b[0m in \u001b[0;36m<module>\u001b[0;34m()\u001b[0m\n\u001b[1;32m      6\u001b[0m     \u001b[0mprint\u001b[0m\u001b[0;34m(\u001b[0m\u001b[0;34m'Accuracy {}\\n\\n'\u001b[0m\u001b[0;34m.\u001b[0m\u001b[0mformat\u001b[0m\u001b[0;34m(\u001b[0m\u001b[0maccuracy_score\u001b[0m\u001b[0;34m(\u001b[0m\u001b[0my_test\u001b[0m\u001b[0;34m.\u001b[0m\u001b[0miloc\u001b[0m\u001b[0;34m[\u001b[0m\u001b[0;34m:\u001b[0m\u001b[0;34m,\u001b[0m \u001b[0mi\u001b[0m\u001b[0;34m]\u001b[0m\u001b[0;34m.\u001b[0m\u001b[0mvalues\u001b[0m\u001b[0;34m,\u001b[0m \u001b[0my_pred\u001b[0m\u001b[0;34m[\u001b[0m\u001b[0;34m:\u001b[0m\u001b[0;34m,\u001b[0m \u001b[0mi\u001b[0m\u001b[0;34m]\u001b[0m\u001b[0;34m)\u001b[0m\u001b[0;34m)\u001b[0m\u001b[0;34m)\u001b[0m\u001b[0;34m\u001b[0m\u001b[0m\n\u001b[1;32m      7\u001b[0m \u001b[0;34m\u001b[0m\u001b[0m\n\u001b[0;32m----> 8\u001b[0;31m \u001b[0my_pred\u001b[0m \u001b[0;34m=\u001b[0m \u001b[0mpipeline_cv\u001b[0m\u001b[0;34m.\u001b[0m\u001b[0mpredict\u001b[0m\u001b[0;34m(\u001b[0m\u001b[0mX_test\u001b[0m\u001b[0;34m)\u001b[0m\u001b[0;34m\u001b[0m\u001b[0m\n\u001b[0m\u001b[1;32m      9\u001b[0m \u001b[0;34m\u001b[0m\u001b[0m\n\u001b[1;32m     10\u001b[0m \u001b[0mprint\u001b[0m\u001b[0;34m(\u001b[0m\u001b[0mclassification_report\u001b[0m\u001b[0;34m(\u001b[0m\u001b[0my_test\u001b[0m\u001b[0;34m.\u001b[0m\u001b[0miloc\u001b[0m\u001b[0;34m[\u001b[0m\u001b[0;34m:\u001b[0m\u001b[0;34m,\u001b[0m \u001b[0;36m1\u001b[0m\u001b[0;34m:\u001b[0m\u001b[0;34m]\u001b[0m\u001b[0;34m.\u001b[0m\u001b[0mvalues\u001b[0m\u001b[0;34m,\u001b[0m \u001b[0mnp\u001b[0m\u001b[0;34m.\u001b[0m\u001b[0marray\u001b[0m\u001b[0;34m(\u001b[0m\u001b[0;34m[\u001b[0m\u001b[0mx\u001b[0m\u001b[0;34m[\u001b[0m\u001b[0;36m1\u001b[0m\u001b[0;34m:\u001b[0m\u001b[0;34m]\u001b[0m \u001b[0;32mfor\u001b[0m \u001b[0mx\u001b[0m \u001b[0;32min\u001b[0m \u001b[0mY_pred\u001b[0m\u001b[0;34m]\u001b[0m\u001b[0;34m)\u001b[0m\u001b[0;34m,\u001b[0m \u001b[0mtarget_names\u001b[0m \u001b[0;34m=\u001b[0m \u001b[0mcategory_names\u001b[0m\u001b[0;34m)\u001b[0m\u001b[0;34m)\u001b[0m\u001b[0;34m\u001b[0m\u001b[0m\n",
      "\u001b[0;31mNameError\u001b[0m: name 'pipeline_cv' is not defined"
     ]
    }
   ],
   "source": [
    "#y_pred = pipeline.predict(X_test)\n",
    "\n",
    "for i in range(len(category_names)):\n",
    "    print('Category: {} '.format(category_names[i]))\n",
    "    print(classification_report(y_test.iloc[:, i].values, y_pred[:, i]))\n",
    "    print('Accuracy {}\\n\\n'.format(accuracy_score(y_test.iloc[:, i].values, y_pred[:, i])))\n",
    "\n",
    "y_pred = pipeline_cv.predict(X_test)\n",
    "    \n",
    "print(classification_report(y_test.iloc[:, 1:].values, np.array([x[1:] for x in Y_pred]), target_names = category_names))\n",
    "print('Accuracy {}\\n\\n'.format(accuracy_score(y_test.iloc[:, i].values, y_pred[:, i])))"
   ]
  },
  {
   "cell_type": "code",
   "execution_count": 27,
   "metadata": {},
   "outputs": [
    {
     "ename": "ValueError",
     "evalue": "Unknown label type: (       related  request  offer  aid_related  medical_help  medical_products  \\\n7917         1        0      0            0             0                 0   \n25322        1        0      0            0             0                 0   \n22191        1        0      0            1             0                 0   \n18442        0        0      0            0             0                 0   \n1336         0        0      0            0             0                 0   \n24449        1        0      1            1             1                 0   \n7976         0        0      0            0             0                 0   \n17210        1        0      0            0             0                 0   \n14652        1        0      0            1             0                 0   \n20339        0        0      0            0             0                 0   \n9317         0        0      0            0             0                 0   \n25097        1        0      0            1             1                 1   \n19871        1        0      0            0             0                 0   \n9246         1        0      0            0             0                 0   \n3776         1        1      0            1             1                 0   \n16581        1        0      0            0             0                 0   \n20736        1        0      0            1             0                 0   \n21706        1        0      0            1             0                 0   \n5227         0        0      0            0             0                 0   \n9254         1        0      0            0             0                 0   \n10201        1        0      0            0             0                 0   \n23850        1        0      0            0             0                 0   \n25077        1        0      0            0             0                 0   \n20388        1        0      0            0             0                 0   \n26051        1        0      0            0             0                 0   \n17686        1        0      0            0             0                 0   \n1427         0        0      0            0             0                 0   \n8214         1        0      0            1             0                 0   \n17425        0        0      0            0             0                 0   \n1347         1        0      0            0             0                 0   \n...        ...      ...    ...          ...           ...               ...   \n15993        1        0      0            1             0                 0   \n1476         1        1      0            1             0                 0   \n25700        0        0      0            0             0                 0   \n5748         0        0      0            0             0                 0   \n16867        1        0      0            1             0                 1   \n4731         0        0      0            0             0                 0   \n10746        1        0      0            0             0                 0   \n19712        1        0      0            0             0                 0   \n12821        0        0      0            0             0                 0   \n50           1        0      0            0             0                 0   \n9325         0        0      0            0             0                 0   \n9668         0        0      0            0             0                 0   \n23169        1        0      0            1             0                 0   \n1686         1        1      0            1             0                 0   \n22501        1        0      0            1             0                 0   \n4398         1        1      0            1             0                 0   \n7413         0        0      0            0             0                 0   \n16525        1        0      0            1             1                 0   \n8182         0        0      0            0             0                 0   \n12218        0        0      0            0             0                 0   \n14353        1        0      0            1             1                 0   \n20787        1        0      0            0             0                 0   \n5404         1        1      0            1             0                 0   \n9602         0        0      0            0             0                 0   \n8922         0        0      0            0             0                 0   \n3198         1        1      0            1             0                 0   \n5254         0        0      0            0             0                 0   \n4224         0        0      0            0             0                 0   \n9989         1        0      0            1             0                 0   \n24094        1        0      0            1             0                 0   \n\n       search_and_rescue  security  military  child_alone      ...        \\\n7917                   0         0         0            0      ...         \n25322                  0         0         0            0      ...         \n22191                  0         0         0            0      ...         \n18442                  0         0         0            0      ...         \n1336                   0         0         0            0      ...         \n24449                  0         0         0            0      ...         \n7976                   0         0         0            0      ...         \n17210                  0         0         0            0      ...         \n14652                  0         0         0            0      ...         \n20339                  0         0         0            0      ...         \n9317                   0         0         0            0      ...         \n25097                  0         0         0            0      ...         \n19871                  0         0         0            0      ...         \n9246                   0         0         0            0      ...         \n3776                   0         0         0            0      ...         \n16581                  0         0         0            0      ...         \n20736                  0         0         0            0      ...         \n21706                  0         0         0            0      ...         \n5227                   0         0         0            0      ...         \n9254                   0         0         0            0      ...         \n10201                  0         0         0            0      ...         \n23850                  0         0         0            0      ...         \n25077                  0         0         0            0      ...         \n20388                  0         0         0            0      ...         \n26051                  0         0         0            0      ...         \n17686                  0         0         0            0      ...         \n1427                   0         0         0            0      ...         \n8214                   0         0         1            0      ...         \n17425                  0         0         0            0      ...         \n1347                   0         0         0            0      ...         \n...                  ...       ...       ...          ...      ...         \n15993                  0         0         0            0      ...         \n1476                   0         0         0            0      ...         \n25700                  0         0         0            0      ...         \n5748                   0         0         0            0      ...         \n16867                  0         0         0            0      ...         \n4731                   0         0         0            0      ...         \n10746                  0         0         0            0      ...         \n19712                  0         0         0            0      ...         \n12821                  0         0         0            0      ...         \n50                     0         0         0            0      ...         \n9325                   0         0         0            0      ...         \n9668                   0         0         0            0      ...         \n23169                  0         0         0            0      ...         \n1686                   0         0         0            0      ...         \n22501                  0         0         0            0      ...         \n4398                   0         0         0            0      ...         \n7413                   0         0         0            0      ...         \n16525                  0         0         0            0      ...         \n8182                   0         0         0            0      ...         \n12218                  0         0         0            0      ...         \n14353                  0         0         0            0      ...         \n20787                  0         0         0            0      ...         \n5404                   0         0         0            0      ...         \n9602                   0         0         0            0      ...         \n8922                   0         0         0            0      ...         \n3198                   0         0         0            0      ...         \n5254                   0         0         0            0      ...         \n4224                   0         0         0            0      ...         \n9989                   0         0         0            0      ...         \n24094                  0         0         1            0      ...         \n\n       aid_centers  other_infrastructure  weather_related  floods  storm  \\\n7917             0                     0                0       0      0   \n25322            0                     0                0       0      0   \n22191            0                     0                1       0      0   \n18442            0                     0                0       0      0   \n1336             0                     0                0       0      0   \n24449            0                     0                0       0      0   \n7976             0                     0                0       0      0   \n17210            0                     0                1       0      1   \n14652            0                     0                1       0      0   \n20339            0                     0                0       0      0   \n9317             0                     0                0       0      0   \n25097            0                     0                0       0      0   \n19871            0                     1                0       0      0   \n9246             0                     0                0       0      0   \n3776             0                     0                0       0      0   \n16581            0                     0                1       0      0   \n20736            0                     0                0       0      0   \n21706            0                     0                0       0      0   \n5227             0                     0                0       0      0   \n9254             0                     0                1       0      1   \n10201            0                     0                1       0      0   \n23850            0                     0                0       0      0   \n25077            0                     0                0       0      0   \n20388            0                     0                0       0      0   \n26051            0                     0                0       0      0   \n17686            0                     0                0       0      0   \n1427             0                     0                0       0      0   \n8214             0                     0                1       0      0   \n17425            0                     0                0       0      0   \n1347             0                     0                0       0      0   \n...            ...                   ...              ...     ...    ...   \n15993            0                     0                1       0      1   \n1476             0                     0                0       0      0   \n25700            0                     0                0       0      0   \n5748             0                     0                0       0      0   \n16867            0                     0                1       1      0   \n4731             0                     0                0       0      0   \n10746            0                     0                0       0      0   \n19712            0                     0                0       0      0   \n12821            0                     0                0       0      0   \n50               0                     0                0       0      0   \n9325             0                     0                0       0      0   \n9668             0                     0                0       0      0   \n23169            0                     0                0       0      0   \n1686             0                     0                0       0      0   \n22501            1                     0                1       1      1   \n4398             0                     0                0       0      0   \n7413             0                     0                0       0      0   \n16525            0                     0                0       0      0   \n8182             0                     0                0       0      0   \n12218            0                     0                0       0      0   \n14353            0                     0                1       0      0   \n20787            0                     0                0       0      0   \n5404             0                     0                0       0      0   \n9602             0                     0                0       0      0   \n8922             0                     0                0       0      0   \n3198             0                     0                0       0      0   \n5254             0                     0                0       0      0   \n4224             0                     0                0       0      0   \n9989             0                     0                1       0      0   \n24094            0                     0                0       0      0   \n\n       fire  earthquake  cold  other_weather  direct_report  \n7917      0           0     0              0              0  \n25322     0           0     0              0              0  \n22191     0           0     1              1              0  \n18442     0           0     0              0              0  \n1336      0           0     0              0              0  \n24449     0           0     0              0              0  \n7976      0           0     0              0              0  \n17210     0           0     0              0              1  \n14652     0           1     0              0              0  \n20339     0           0     0              0              0  \n9317      0           0     0              0              0  \n25097     0           0     0              0              0  \n19871     0           0     0              0              0  \n9246      0           0     0              0              0  \n3776      0           0     0              0              1  \n16581     1           0     0              0              0  \n20736     0           0     0              0              0  \n21706     0           0     0              0              0  \n5227      0           0     0              0              0  \n9254      0           0     0              1              0  \n10201     0           1     0              1              0  \n23850     0           0     0              0              0  \n25077     0           0     0              0              1  \n20388     0           0     0              0              0  \n26051     0           0     0              0              0  \n17686     0           0     0              0              0  \n1427      0           0     0              0              0  \n8214      0           0     1              0              1  \n17425     0           0     0              0              0  \n1347      0           0     0              0              0  \n...     ...         ...   ...            ...            ...  \n15993     0           0     0              0              0  \n1476      0           0     0              0              1  \n25700     0           0     0              0              0  \n5748      0           0     0              0              0  \n16867     0           0     0              0              0  \n4731      0           0     0              0              0  \n10746     0           0     0              0              1  \n19712     0           0     0              0              0  \n12821     0           0     0              0              0  \n50        0           0     0              0              0  \n9325      0           0     0              0              0  \n9668      0           0     0              0              0  \n23169     0           0     0              0              0  \n1686      0           0     0              0              1  \n22501     0           1     0              0              0  \n4398      0           0     0              0              1  \n7413      0           0     0              0              0  \n16525     0           0     0              0              0  \n8182      0           0     0              0              0  \n12218     0           0     0              0              0  \n14353     0           1     0              0              0  \n20787     0           0     0              0              0  \n5404      0           0     0              0              1  \n9602      0           0     0              0              0  \n8922      0           0     0              0              0  \n3198      0           0     0              0              1  \n5254      0           0     0              0              0  \n4224      0           0     0              0              0  \n9989      0           1     0              0              0  \n24094     0           0     0              0              0  \n\n[8652 rows x 36 columns], array([[1, 0, 0, ..., 0, 0, 0],\n       [1, 0, 0, ..., 0, 0, 0],\n       [1, 0, 0, ..., 0, 0, 0],\n       ..., \n       [0, 0, 0, ..., 0, 0, 0],\n       [1, 0, 0, ..., 0, 0, 0],\n       [0, 0, 0, ..., 0, 0, 0]]))",
     "output_type": "error",
     "traceback": [
      "\u001b[0;31m---------------------------------------------------------------------------\u001b[0m",
      "\u001b[0;31mValueError\u001b[0m                                Traceback (most recent call last)",
      "\u001b[0;32m<ipython-input-27-649af7729e3c>\u001b[0m in \u001b[0;36m<module>\u001b[0;34m()\u001b[0m\n\u001b[1;32m      2\u001b[0m \u001b[0mlabels\u001b[0m \u001b[0;34m=\u001b[0m \u001b[0mnp\u001b[0m\u001b[0;34m.\u001b[0m\u001b[0munique\u001b[0m\u001b[0;34m(\u001b[0m\u001b[0my_pred\u001b[0m\u001b[0;34m)\u001b[0m\u001b[0;34m\u001b[0m\u001b[0m\n\u001b[1;32m      3\u001b[0m \u001b[0;34m\u001b[0m\u001b[0m\n\u001b[0;32m----> 4\u001b[0;31m \u001b[0mprint\u001b[0m\u001b[0;34m(\u001b[0m\u001b[0mclassification_report\u001b[0m\u001b[0;34m(\u001b[0m\u001b[0my_test\u001b[0m\u001b[0;34m,\u001b[0m \u001b[0my_pred\u001b[0m\u001b[0;34m,\u001b[0m \u001b[0mtarget_names\u001b[0m\u001b[0;34m=\u001b[0m\u001b[0mtarget_names\u001b[0m\u001b[0;34m)\u001b[0m\u001b[0;34m)\u001b[0m\u001b[0;34m\u001b[0m\u001b[0m\n\u001b[0m",
      "\u001b[0;32m/opt/conda/lib/python3.6/site-packages/sklearn/metrics/classification.py\u001b[0m in \u001b[0;36mclassification_report\u001b[0;34m(y_true, y_pred, labels, target_names, sample_weight, digits)\u001b[0m\n\u001b[1;32m   1419\u001b[0m \u001b[0;34m\u001b[0m\u001b[0m\n\u001b[1;32m   1420\u001b[0m     \u001b[0;32mif\u001b[0m \u001b[0mlabels\u001b[0m \u001b[0;32mis\u001b[0m \u001b[0;32mNone\u001b[0m\u001b[0;34m:\u001b[0m\u001b[0;34m\u001b[0m\u001b[0m\n\u001b[0;32m-> 1421\u001b[0;31m         \u001b[0mlabels\u001b[0m \u001b[0;34m=\u001b[0m \u001b[0munique_labels\u001b[0m\u001b[0;34m(\u001b[0m\u001b[0my_true\u001b[0m\u001b[0;34m,\u001b[0m \u001b[0my_pred\u001b[0m\u001b[0;34m)\u001b[0m\u001b[0;34m\u001b[0m\u001b[0m\n\u001b[0m\u001b[1;32m   1422\u001b[0m     \u001b[0;32melse\u001b[0m\u001b[0;34m:\u001b[0m\u001b[0;34m\u001b[0m\u001b[0m\n\u001b[1;32m   1423\u001b[0m         \u001b[0mlabels\u001b[0m \u001b[0;34m=\u001b[0m \u001b[0mnp\u001b[0m\u001b[0;34m.\u001b[0m\u001b[0masarray\u001b[0m\u001b[0;34m(\u001b[0m\u001b[0mlabels\u001b[0m\u001b[0;34m)\u001b[0m\u001b[0;34m\u001b[0m\u001b[0m\n",
      "\u001b[0;32m/opt/conda/lib/python3.6/site-packages/sklearn/utils/multiclass.py\u001b[0m in \u001b[0;36munique_labels\u001b[0;34m(*ys)\u001b[0m\n\u001b[1;32m     95\u001b[0m     \u001b[0m_unique_labels\u001b[0m \u001b[0;34m=\u001b[0m \u001b[0m_FN_UNIQUE_LABELS\u001b[0m\u001b[0;34m.\u001b[0m\u001b[0mget\u001b[0m\u001b[0;34m(\u001b[0m\u001b[0mlabel_type\u001b[0m\u001b[0;34m,\u001b[0m \u001b[0;32mNone\u001b[0m\u001b[0;34m)\u001b[0m\u001b[0;34m\u001b[0m\u001b[0m\n\u001b[1;32m     96\u001b[0m     \u001b[0;32mif\u001b[0m \u001b[0;32mnot\u001b[0m \u001b[0m_unique_labels\u001b[0m\u001b[0;34m:\u001b[0m\u001b[0;34m\u001b[0m\u001b[0m\n\u001b[0;32m---> 97\u001b[0;31m         \u001b[0;32mraise\u001b[0m \u001b[0mValueError\u001b[0m\u001b[0;34m(\u001b[0m\u001b[0;34m\"Unknown label type: %s\"\u001b[0m \u001b[0;34m%\u001b[0m \u001b[0mrepr\u001b[0m\u001b[0;34m(\u001b[0m\u001b[0mys\u001b[0m\u001b[0;34m)\u001b[0m\u001b[0;34m)\u001b[0m\u001b[0;34m\u001b[0m\u001b[0m\n\u001b[0m\u001b[1;32m     98\u001b[0m \u001b[0;34m\u001b[0m\u001b[0m\n\u001b[1;32m     99\u001b[0m     \u001b[0mys_labels\u001b[0m \u001b[0;34m=\u001b[0m \u001b[0mset\u001b[0m\u001b[0;34m(\u001b[0m\u001b[0mchain\u001b[0m\u001b[0;34m.\u001b[0m\u001b[0mfrom_iterable\u001b[0m\u001b[0;34m(\u001b[0m\u001b[0m_unique_labels\u001b[0m\u001b[0;34m(\u001b[0m\u001b[0my\u001b[0m\u001b[0;34m)\u001b[0m \u001b[0;32mfor\u001b[0m \u001b[0my\u001b[0m \u001b[0;32min\u001b[0m \u001b[0mys\u001b[0m\u001b[0;34m)\u001b[0m\u001b[0;34m)\u001b[0m\u001b[0;34m\u001b[0m\u001b[0m\n",
      "\u001b[0;31mValueError\u001b[0m: Unknown label type: (       related  request  offer  aid_related  medical_help  medical_products  \\\n7917         1        0      0            0             0                 0   \n25322        1        0      0            0             0                 0   \n22191        1        0      0            1             0                 0   \n18442        0        0      0            0             0                 0   \n1336         0        0      0            0             0                 0   \n24449        1        0      1            1             1                 0   \n7976         0        0      0            0             0                 0   \n17210        1        0      0            0             0                 0   \n14652        1        0      0            1             0                 0   \n20339        0        0      0            0             0                 0   \n9317         0        0      0            0             0                 0   \n25097        1        0      0            1             1                 1   \n19871        1        0      0            0             0                 0   \n9246         1        0      0            0             0                 0   \n3776         1        1      0            1             1                 0   \n16581        1        0      0            0             0                 0   \n20736        1        0      0            1             0                 0   \n21706        1        0      0            1             0                 0   \n5227         0        0      0            0             0                 0   \n9254         1        0      0            0             0                 0   \n10201        1        0      0            0             0                 0   \n23850        1        0      0            0             0                 0   \n25077        1        0      0            0             0                 0   \n20388        1        0      0            0             0                 0   \n26051        1        0      0            0             0                 0   \n17686        1        0      0            0             0                 0   \n1427         0        0      0            0             0                 0   \n8214         1        0      0            1             0                 0   \n17425        0        0      0            0             0                 0   \n1347         1        0      0            0             0                 0   \n...        ...      ...    ...          ...           ...               ...   \n15993        1        0      0            1             0                 0   \n1476         1        1      0            1             0                 0   \n25700        0        0      0            0             0                 0   \n5748         0        0      0            0             0                 0   \n16867        1        0      0            1             0                 1   \n4731         0        0      0            0             0                 0   \n10746        1        0      0            0             0                 0   \n19712        1        0      0            0             0                 0   \n12821        0        0      0            0             0                 0   \n50           1        0      0            0             0                 0   \n9325         0        0      0            0             0                 0   \n9668         0        0      0            0             0                 0   \n23169        1        0      0            1             0                 0   \n1686         1        1      0            1             0                 0   \n22501        1        0      0            1             0                 0   \n4398         1        1      0            1             0                 0   \n7413         0        0      0            0             0                 0   \n16525        1        0      0            1             1                 0   \n8182         0        0      0            0             0                 0   \n12218        0        0      0            0             0                 0   \n14353        1        0      0            1             1                 0   \n20787        1        0      0            0             0                 0   \n5404         1        1      0            1             0                 0   \n9602         0        0      0            0             0                 0   \n8922         0        0      0            0             0                 0   \n3198         1        1      0            1             0                 0   \n5254         0        0      0            0             0                 0   \n4224         0        0      0            0             0                 0   \n9989         1        0      0            1             0                 0   \n24094        1        0      0            1             0                 0   \n\n       search_and_rescue  security  military  child_alone      ...        \\\n7917                   0         0         0            0      ...         \n25322                  0         0         0            0      ...         \n22191                  0         0         0            0      ...         \n18442                  0         0         0            0      ...         \n1336                   0         0         0            0      ...         \n24449                  0         0         0            0      ...         \n7976                   0         0         0            0      ...         \n17210                  0         0         0            0      ...         \n14652                  0         0         0            0      ...         \n20339                  0         0         0            0      ...         \n9317                   0         0         0            0      ...         \n25097                  0         0         0            0      ...         \n19871                  0         0         0            0      ...         \n9246                   0         0         0            0      ...         \n3776                   0         0         0            0      ...         \n16581                  0         0         0            0      ...         \n20736                  0         0         0            0      ...         \n21706                  0         0         0            0      ...         \n5227                   0         0         0            0      ...         \n9254                   0         0         0            0      ...         \n10201                  0         0         0            0      ...         \n23850                  0         0         0            0      ...         \n25077                  0         0         0            0      ...         \n20388                  0         0         0            0      ...         \n26051                  0         0         0            0      ...         \n17686                  0         0         0            0      ...         \n1427                   0         0         0            0      ...         \n8214                   0         0         1            0      ...         \n17425                  0         0         0            0      ...         \n1347                   0         0         0            0      ...         \n...                  ...       ...       ...          ...      ...         \n15993                  0         0         0            0      ...         \n1476                   0         0         0            0      ...         \n25700                  0         0         0            0      ...         \n5748                   0         0         0            0      ...         \n16867                  0         0         0            0      ...         \n4731                   0         0         0            0      ...         \n10746                  0         0         0            0      ...         \n19712                  0         0         0            0      ...         \n12821                  0         0         0            0      ...         \n50                     0         0         0            0      ...         \n9325                   0         0         0            0      ...         \n9668                   0         0         0            0      ...         \n23169                  0         0         0            0      ...         \n1686                   0         0         0            0      ...         \n22501                  0         0         0            0      ...         \n4398                   0         0         0            0      ...         \n7413                   0         0         0            0      ...         \n16525                  0         0         0            0      ...         \n8182                   0         0         0            0      ...         \n12218                  0         0         0            0      ...         \n14353                  0         0         0            0      ...         \n20787                  0         0         0            0      ...         \n5404                   0         0         0            0      ...         \n9602                   0         0         0            0      ...         \n8922                   0         0         0            0      ...         \n3198                   0         0         0            0      ...         \n5254                   0         0         0            0      ...         \n4224                   0         0         0            0      ...         \n9989                   0         0         0            0      ...         \n24094                  0         0         1            0      ...         \n\n       aid_centers  other_infrastructure  weather_related  floods  storm  \\\n7917             0                     0                0       0      0   \n25322            0                     0                0       0      0   \n22191            0                     0                1       0      0   \n18442            0                     0                0       0      0   \n1336             0                     0                0       0      0   \n24449            0                     0                0       0      0   \n7976             0                     0                0       0      0   \n17210            0                     0                1       0      1   \n14652            0                     0                1       0      0   \n20339            0                     0                0       0      0   \n9317             0                     0                0       0      0   \n25097            0                     0                0       0      0   \n19871            0                     1                0       0      0   \n9246             0                     0                0       0      0   \n3776             0                     0                0       0      0   \n16581            0                     0                1       0      0   \n20736            0                     0                0       0      0   \n21706            0                     0                0       0      0   \n5227             0                     0                0       0      0   \n9254             0                     0                1       0      1   \n10201            0                     0                1       0      0   \n23850            0                     0                0       0      0   \n25077            0                     0                0       0      0   \n20388            0                     0                0       0      0   \n26051            0                     0                0       0      0   \n17686            0                     0                0       0      0   \n1427             0                     0                0       0      0   \n8214             0                     0                1       0      0   \n17425            0                     0                0       0      0   \n1347             0                     0                0       0      0   \n...            ...                   ...              ...     ...    ...   \n15993            0                     0                1       0      1   \n1476             0                     0                0       0      0   \n25700            0                     0                0       0      0   \n5748             0                     0                0       0      0   \n16867            0                     0                1       1      0   \n4731             0                     0                0       0      0   \n10746            0                     0                0       0      0   \n19712            0                     0                0       0      0   \n12821            0                     0                0       0      0   \n50               0                     0                0       0      0   \n9325             0                     0                0       0      0   \n9668             0                     0                0       0      0   \n23169            0                     0                0       0      0   \n1686             0                     0                0       0      0   \n22501            1                     0                1       1      1   \n4398             0                     0                0       0      0   \n7413             0                     0                0       0      0   \n16525            0                     0                0       0      0   \n8182             0                     0                0       0      0   \n12218            0                     0                0       0      0   \n14353            0                     0                1       0      0   \n20787            0                     0                0       0      0   \n5404             0                     0                0       0      0   \n9602             0                     0                0       0      0   \n8922             0                     0                0       0      0   \n3198             0                     0                0       0      0   \n5254             0                     0                0       0      0   \n4224             0                     0                0       0      0   \n9989             0                     0                1       0      0   \n24094            0                     0                0       0      0   \n\n       fire  earthquake  cold  other_weather  direct_report  \n7917      0           0     0              0              0  \n25322     0           0     0              0              0  \n22191     0           0     1              1              0  \n18442     0           0     0              0              0  \n1336      0           0     0              0              0  \n24449     0           0     0              0              0  \n7976      0           0     0              0              0  \n17210     0           0     0              0              1  \n14652     0           1     0              0              0  \n20339     0           0     0              0              0  \n9317      0           0     0              0              0  \n25097     0           0     0              0              0  \n19871     0           0     0              0              0  \n9246      0           0     0              0              0  \n3776      0           0     0              0              1  \n16581     1           0     0              0              0  \n20736     0           0     0              0              0  \n21706     0           0     0              0              0  \n5227      0           0     0              0              0  \n9254      0           0     0              1              0  \n10201     0           1     0              1              0  \n23850     0           0     0              0              0  \n25077     0           0     0              0              1  \n20388     0           0     0              0              0  \n26051     0           0     0              0              0  \n17686     0           0     0              0              0  \n1427      0           0     0              0              0  \n8214      0           0     1              0              1  \n17425     0           0     0              0              0  \n1347      0           0     0              0              0  \n...     ...         ...   ...            ...            ...  \n15993     0           0     0              0              0  \n1476      0           0     0              0              1  \n25700     0           0     0              0              0  \n5748      0           0     0              0              0  \n16867     0           0     0              0              0  \n4731      0           0     0              0              0  \n10746     0           0     0              0              1  \n19712     0           0     0              0              0  \n12821     0           0     0              0              0  \n50        0           0     0              0              0  \n9325      0           0     0              0              0  \n9668      0           0     0              0              0  \n23169     0           0     0              0              0  \n1686      0           0     0              0              1  \n22501     0           1     0              0              0  \n4398      0           0     0              0              1  \n7413      0           0     0              0              0  \n16525     0           0     0              0              0  \n8182      0           0     0              0              0  \n12218     0           0     0              0              0  \n14353     0           1     0              0              0  \n20787     0           0     0              0              0  \n5404      0           0     0              0              1  \n9602      0           0     0              0              0  \n8922      0           0     0              0              0  \n3198      0           0     0              0              1  \n5254      0           0     0              0              0  \n4224      0           0     0              0              0  \n9989      0           1     0              0              0  \n24094     0           0     0              0              0  \n\n[8652 rows x 36 columns], array([[1, 0, 0, ..., 0, 0, 0],\n       [1, 0, 0, ..., 0, 0, 0],\n       [1, 0, 0, ..., 0, 0, 0],\n       ..., \n       [0, 0, 0, ..., 0, 0, 0],\n       [1, 0, 0, ..., 0, 0, 0],\n       [0, 0, 0, ..., 0, 0, 0]]))"
     ]
    }
   ],
   "source": [
    "target_names = y.columns\n",
    "labels = np.unique(y_pred)\n",
    "\n",
    "print(classification_report(y_test, y_pred, target_names=target_names))"
   ]
  },
  {
   "cell_type": "markdown",
   "metadata": {},
   "source": [
    "### 6. Improve your model\n",
    "Use grid search to find better parameters. "
   ]
  },
  {
   "cell_type": "code",
   "execution_count": 29,
   "metadata": {},
   "outputs": [],
   "source": [
    "pipeline.get_params()\n",
    "\n",
    "parameters = {'tfidf__norm': ['l1','l2'],\n",
    "              'clf__estimator__criterion': [\"gini\", \"entropy\"]\n",
    "    \n",
    "             }\n",
    "\n",
    "cv = GridSearchCV(pipeline, param_grid=parameters)\n",
    "\n"
   ]
  },
  {
   "cell_type": "markdown",
   "metadata": {},
   "source": [
    "### 7. Test your model\n",
    "Show the accuracy, precision, and recall of the tuned model.  \n",
    "\n",
    "Since this project focuses on code quality, process, and  pipelines, there is no minimum performance metric needed to pass. However, make sure to fine tune your models for accuracy, precision and recall to make your project stand out - especially for your portfolio!"
   ]
  },
  {
   "cell_type": "code",
   "execution_count": 30,
   "metadata": {},
   "outputs": [
    {
     "data": {
      "text/plain": [
       "GridSearchCV(cv=None, error_score='raise',\n",
       "       estimator=Pipeline(memory=None,\n",
       "     steps=[('vect', CountVectorizer(analyzer='word', binary=False, decode_error='strict',\n",
       "        dtype=<class 'numpy.int64'>, encoding='utf-8', input='content',\n",
       "        lowercase=True, max_df=1.0, max_features=None, min_df=1,\n",
       "        ngram_range=(1, 1), preprocessor=None, stop_words=None,\n",
       "        strip...oob_score=False, random_state=None, verbose=0,\n",
       "            warm_start=False),\n",
       "           n_jobs=1))]),\n",
       "       fit_params=None, iid=True, n_jobs=1,\n",
       "       param_grid={'tfidf__norm': ['l1', 'l2'], 'clf__estimator__criterion': ['gini', 'entropy']},\n",
       "       pre_dispatch='2*n_jobs', refit=True, return_train_score='warn',\n",
       "       scoring=None, verbose=0)"
      ]
     },
     "execution_count": 30,
     "metadata": {},
     "output_type": "execute_result"
    }
   ],
   "source": [
    "cv.fit(X_train, y_train)"
   ]
  },
  {
   "cell_type": "code",
   "execution_count": 31,
   "metadata": {},
   "outputs": [],
   "source": [
    "y_pred = cv.predict(X_test)"
   ]
  },
  {
   "cell_type": "code",
   "execution_count": 32,
   "metadata": {},
   "outputs": [
    {
     "data": {
      "text/plain": [
       "array([[1, 0, 0, ..., 0, 0, 0],\n",
       "       [1, 0, 0, ..., 0, 0, 0],\n",
       "       [1, 0, 0, ..., 0, 0, 0],\n",
       "       ..., \n",
       "       [1, 0, 0, ..., 0, 0, 0],\n",
       "       [1, 0, 0, ..., 0, 0, 0],\n",
       "       [1, 0, 0, ..., 0, 0, 0]])"
      ]
     },
     "execution_count": 32,
     "metadata": {},
     "output_type": "execute_result"
    }
   ],
   "source": [
    "y_pred"
   ]
  },
  {
   "cell_type": "markdown",
   "metadata": {},
   "source": [
    "### 8. Try improving your model further. Here are a few ideas:\n",
    "* try other machine learning algorithms\n",
    "* add other features besides the TF-IDF"
   ]
  },
  {
   "cell_type": "code",
   "execution_count": 33,
   "metadata": {},
   "outputs": [
    {
     "ename": "ValueError",
     "evalue": "Unknown label type: (       related  request  offer  aid_related  medical_help  medical_products  \\\n7917         1        0      0            0             0                 0   \n25322        1        0      0            0             0                 0   \n22191        1        0      0            1             0                 0   \n18442        0        0      0            0             0                 0   \n1336         0        0      0            0             0                 0   \n24449        1        0      1            1             1                 0   \n7976         0        0      0            0             0                 0   \n17210        1        0      0            0             0                 0   \n14652        1        0      0            1             0                 0   \n20339        0        0      0            0             0                 0   \n9317         0        0      0            0             0                 0   \n25097        1        0      0            1             1                 1   \n19871        1        0      0            0             0                 0   \n9246         1        0      0            0             0                 0   \n3776         1        1      0            1             1                 0   \n16581        1        0      0            0             0                 0   \n20736        1        0      0            1             0                 0   \n21706        1        0      0            1             0                 0   \n5227         0        0      0            0             0                 0   \n9254         1        0      0            0             0                 0   \n10201        1        0      0            0             0                 0   \n23850        1        0      0            0             0                 0   \n25077        1        0      0            0             0                 0   \n20388        1        0      0            0             0                 0   \n26051        1        0      0            0             0                 0   \n17686        1        0      0            0             0                 0   \n1427         0        0      0            0             0                 0   \n8214         1        0      0            1             0                 0   \n17425        0        0      0            0             0                 0   \n1347         1        0      0            0             0                 0   \n...        ...      ...    ...          ...           ...               ...   \n15993        1        0      0            1             0                 0   \n1476         1        1      0            1             0                 0   \n25700        0        0      0            0             0                 0   \n5748         0        0      0            0             0                 0   \n16867        1        0      0            1             0                 1   \n4731         0        0      0            0             0                 0   \n10746        1        0      0            0             0                 0   \n19712        1        0      0            0             0                 0   \n12821        0        0      0            0             0                 0   \n50           1        0      0            0             0                 0   \n9325         0        0      0            0             0                 0   \n9668         0        0      0            0             0                 0   \n23169        1        0      0            1             0                 0   \n1686         1        1      0            1             0                 0   \n22501        1        0      0            1             0                 0   \n4398         1        1      0            1             0                 0   \n7413         0        0      0            0             0                 0   \n16525        1        0      0            1             1                 0   \n8182         0        0      0            0             0                 0   \n12218        0        0      0            0             0                 0   \n14353        1        0      0            1             1                 0   \n20787        1        0      0            0             0                 0   \n5404         1        1      0            1             0                 0   \n9602         0        0      0            0             0                 0   \n8922         0        0      0            0             0                 0   \n3198         1        1      0            1             0                 0   \n5254         0        0      0            0             0                 0   \n4224         0        0      0            0             0                 0   \n9989         1        0      0            1             0                 0   \n24094        1        0      0            1             0                 0   \n\n       search_and_rescue  security  military  child_alone      ...        \\\n7917                   0         0         0            0      ...         \n25322                  0         0         0            0      ...         \n22191                  0         0         0            0      ...         \n18442                  0         0         0            0      ...         \n1336                   0         0         0            0      ...         \n24449                  0         0         0            0      ...         \n7976                   0         0         0            0      ...         \n17210                  0         0         0            0      ...         \n14652                  0         0         0            0      ...         \n20339                  0         0         0            0      ...         \n9317                   0         0         0            0      ...         \n25097                  0         0         0            0      ...         \n19871                  0         0         0            0      ...         \n9246                   0         0         0            0      ...         \n3776                   0         0         0            0      ...         \n16581                  0         0         0            0      ...         \n20736                  0         0         0            0      ...         \n21706                  0         0         0            0      ...         \n5227                   0         0         0            0      ...         \n9254                   0         0         0            0      ...         \n10201                  0         0         0            0      ...         \n23850                  0         0         0            0      ...         \n25077                  0         0         0            0      ...         \n20388                  0         0         0            0      ...         \n26051                  0         0         0            0      ...         \n17686                  0         0         0            0      ...         \n1427                   0         0         0            0      ...         \n8214                   0         0         1            0      ...         \n17425                  0         0         0            0      ...         \n1347                   0         0         0            0      ...         \n...                  ...       ...       ...          ...      ...         \n15993                  0         0         0            0      ...         \n1476                   0         0         0            0      ...         \n25700                  0         0         0            0      ...         \n5748                   0         0         0            0      ...         \n16867                  0         0         0            0      ...         \n4731                   0         0         0            0      ...         \n10746                  0         0         0            0      ...         \n19712                  0         0         0            0      ...         \n12821                  0         0         0            0      ...         \n50                     0         0         0            0      ...         \n9325                   0         0         0            0      ...         \n9668                   0         0         0            0      ...         \n23169                  0         0         0            0      ...         \n1686                   0         0         0            0      ...         \n22501                  0         0         0            0      ...         \n4398                   0         0         0            0      ...         \n7413                   0         0         0            0      ...         \n16525                  0         0         0            0      ...         \n8182                   0         0         0            0      ...         \n12218                  0         0         0            0      ...         \n14353                  0         0         0            0      ...         \n20787                  0         0         0            0      ...         \n5404                   0         0         0            0      ...         \n9602                   0         0         0            0      ...         \n8922                   0         0         0            0      ...         \n3198                   0         0         0            0      ...         \n5254                   0         0         0            0      ...         \n4224                   0         0         0            0      ...         \n9989                   0         0         0            0      ...         \n24094                  0         0         1            0      ...         \n\n       aid_centers  other_infrastructure  weather_related  floods  storm  \\\n7917             0                     0                0       0      0   \n25322            0                     0                0       0      0   \n22191            0                     0                1       0      0   \n18442            0                     0                0       0      0   \n1336             0                     0                0       0      0   \n24449            0                     0                0       0      0   \n7976             0                     0                0       0      0   \n17210            0                     0                1       0      1   \n14652            0                     0                1       0      0   \n20339            0                     0                0       0      0   \n9317             0                     0                0       0      0   \n25097            0                     0                0       0      0   \n19871            0                     1                0       0      0   \n9246             0                     0                0       0      0   \n3776             0                     0                0       0      0   \n16581            0                     0                1       0      0   \n20736            0                     0                0       0      0   \n21706            0                     0                0       0      0   \n5227             0                     0                0       0      0   \n9254             0                     0                1       0      1   \n10201            0                     0                1       0      0   \n23850            0                     0                0       0      0   \n25077            0                     0                0       0      0   \n20388            0                     0                0       0      0   \n26051            0                     0                0       0      0   \n17686            0                     0                0       0      0   \n1427             0                     0                0       0      0   \n8214             0                     0                1       0      0   \n17425            0                     0                0       0      0   \n1347             0                     0                0       0      0   \n...            ...                   ...              ...     ...    ...   \n15993            0                     0                1       0      1   \n1476             0                     0                0       0      0   \n25700            0                     0                0       0      0   \n5748             0                     0                0       0      0   \n16867            0                     0                1       1      0   \n4731             0                     0                0       0      0   \n10746            0                     0                0       0      0   \n19712            0                     0                0       0      0   \n12821            0                     0                0       0      0   \n50               0                     0                0       0      0   \n9325             0                     0                0       0      0   \n9668             0                     0                0       0      0   \n23169            0                     0                0       0      0   \n1686             0                     0                0       0      0   \n22501            1                     0                1       1      1   \n4398             0                     0                0       0      0   \n7413             0                     0                0       0      0   \n16525            0                     0                0       0      0   \n8182             0                     0                0       0      0   \n12218            0                     0                0       0      0   \n14353            0                     0                1       0      0   \n20787            0                     0                0       0      0   \n5404             0                     0                0       0      0   \n9602             0                     0                0       0      0   \n8922             0                     0                0       0      0   \n3198             0                     0                0       0      0   \n5254             0                     0                0       0      0   \n4224             0                     0                0       0      0   \n9989             0                     0                1       0      0   \n24094            0                     0                0       0      0   \n\n       fire  earthquake  cold  other_weather  direct_report  \n7917      0           0     0              0              0  \n25322     0           0     0              0              0  \n22191     0           0     1              1              0  \n18442     0           0     0              0              0  \n1336      0           0     0              0              0  \n24449     0           0     0              0              0  \n7976      0           0     0              0              0  \n17210     0           0     0              0              1  \n14652     0           1     0              0              0  \n20339     0           0     0              0              0  \n9317      0           0     0              0              0  \n25097     0           0     0              0              0  \n19871     0           0     0              0              0  \n9246      0           0     0              0              0  \n3776      0           0     0              0              1  \n16581     1           0     0              0              0  \n20736     0           0     0              0              0  \n21706     0           0     0              0              0  \n5227      0           0     0              0              0  \n9254      0           0     0              1              0  \n10201     0           1     0              1              0  \n23850     0           0     0              0              0  \n25077     0           0     0              0              1  \n20388     0           0     0              0              0  \n26051     0           0     0              0              0  \n17686     0           0     0              0              0  \n1427      0           0     0              0              0  \n8214      0           0     1              0              1  \n17425     0           0     0              0              0  \n1347      0           0     0              0              0  \n...     ...         ...   ...            ...            ...  \n15993     0           0     0              0              0  \n1476      0           0     0              0              1  \n25700     0           0     0              0              0  \n5748      0           0     0              0              0  \n16867     0           0     0              0              0  \n4731      0           0     0              0              0  \n10746     0           0     0              0              1  \n19712     0           0     0              0              0  \n12821     0           0     0              0              0  \n50        0           0     0              0              0  \n9325      0           0     0              0              0  \n9668      0           0     0              0              0  \n23169     0           0     0              0              0  \n1686      0           0     0              0              1  \n22501     0           1     0              0              0  \n4398      0           0     0              0              1  \n7413      0           0     0              0              0  \n16525     0           0     0              0              0  \n8182      0           0     0              0              0  \n12218     0           0     0              0              0  \n14353     0           1     0              0              0  \n20787     0           0     0              0              0  \n5404      0           0     0              0              1  \n9602      0           0     0              0              0  \n8922      0           0     0              0              0  \n3198      0           0     0              0              1  \n5254      0           0     0              0              0  \n4224      0           0     0              0              0  \n9989      0           1     0              0              0  \n24094     0           0     0              0              0  \n\n[8652 rows x 36 columns], array([[1, 0, 0, ..., 0, 0, 0],\n       [1, 0, 0, ..., 0, 0, 0],\n       [1, 0, 0, ..., 0, 0, 0],\n       ..., \n       [1, 0, 0, ..., 0, 0, 0],\n       [1, 0, 0, ..., 0, 0, 0],\n       [1, 0, 0, ..., 0, 0, 0]]))",
     "output_type": "error",
     "traceback": [
      "\u001b[0;31m---------------------------------------------------------------------------\u001b[0m",
      "\u001b[0;31mValueError\u001b[0m                                Traceback (most recent call last)",
      "\u001b[0;32m<ipython-input-33-835f193d2a74>\u001b[0m in \u001b[0;36m<module>\u001b[0;34m()\u001b[0m\n\u001b[1;32m      1\u001b[0m \u001b[0mtarget_names\u001b[0m \u001b[0;34m=\u001b[0m \u001b[0my\u001b[0m\u001b[0;34m.\u001b[0m\u001b[0mcolumns\u001b[0m\u001b[0;34m\u001b[0m\u001b[0m\n\u001b[0;32m----> 2\u001b[0;31m \u001b[0mprint\u001b[0m\u001b[0;34m(\u001b[0m\u001b[0mclassification_report\u001b[0m\u001b[0;34m(\u001b[0m\u001b[0my_test\u001b[0m\u001b[0;34m,\u001b[0m \u001b[0my_pred\u001b[0m\u001b[0;34m,\u001b[0m \u001b[0mtarget_names\u001b[0m\u001b[0;34m=\u001b[0m\u001b[0mtarget_names\u001b[0m\u001b[0;34m)\u001b[0m\u001b[0;34m)\u001b[0m\u001b[0;34m\u001b[0m\u001b[0m\n\u001b[0m",
      "\u001b[0;32m/opt/conda/lib/python3.6/site-packages/sklearn/metrics/classification.py\u001b[0m in \u001b[0;36mclassification_report\u001b[0;34m(y_true, y_pred, labels, target_names, sample_weight, digits)\u001b[0m\n\u001b[1;32m   1419\u001b[0m \u001b[0;34m\u001b[0m\u001b[0m\n\u001b[1;32m   1420\u001b[0m     \u001b[0;32mif\u001b[0m \u001b[0mlabels\u001b[0m \u001b[0;32mis\u001b[0m \u001b[0;32mNone\u001b[0m\u001b[0;34m:\u001b[0m\u001b[0;34m\u001b[0m\u001b[0m\n\u001b[0;32m-> 1421\u001b[0;31m         \u001b[0mlabels\u001b[0m \u001b[0;34m=\u001b[0m \u001b[0munique_labels\u001b[0m\u001b[0;34m(\u001b[0m\u001b[0my_true\u001b[0m\u001b[0;34m,\u001b[0m \u001b[0my_pred\u001b[0m\u001b[0;34m)\u001b[0m\u001b[0;34m\u001b[0m\u001b[0m\n\u001b[0m\u001b[1;32m   1422\u001b[0m     \u001b[0;32melse\u001b[0m\u001b[0;34m:\u001b[0m\u001b[0;34m\u001b[0m\u001b[0m\n\u001b[1;32m   1423\u001b[0m         \u001b[0mlabels\u001b[0m \u001b[0;34m=\u001b[0m \u001b[0mnp\u001b[0m\u001b[0;34m.\u001b[0m\u001b[0masarray\u001b[0m\u001b[0;34m(\u001b[0m\u001b[0mlabels\u001b[0m\u001b[0;34m)\u001b[0m\u001b[0;34m\u001b[0m\u001b[0m\n",
      "\u001b[0;32m/opt/conda/lib/python3.6/site-packages/sklearn/utils/multiclass.py\u001b[0m in \u001b[0;36munique_labels\u001b[0;34m(*ys)\u001b[0m\n\u001b[1;32m     95\u001b[0m     \u001b[0m_unique_labels\u001b[0m \u001b[0;34m=\u001b[0m \u001b[0m_FN_UNIQUE_LABELS\u001b[0m\u001b[0;34m.\u001b[0m\u001b[0mget\u001b[0m\u001b[0;34m(\u001b[0m\u001b[0mlabel_type\u001b[0m\u001b[0;34m,\u001b[0m \u001b[0;32mNone\u001b[0m\u001b[0;34m)\u001b[0m\u001b[0;34m\u001b[0m\u001b[0m\n\u001b[1;32m     96\u001b[0m     \u001b[0;32mif\u001b[0m \u001b[0;32mnot\u001b[0m \u001b[0m_unique_labels\u001b[0m\u001b[0;34m:\u001b[0m\u001b[0;34m\u001b[0m\u001b[0m\n\u001b[0;32m---> 97\u001b[0;31m         \u001b[0;32mraise\u001b[0m \u001b[0mValueError\u001b[0m\u001b[0;34m(\u001b[0m\u001b[0;34m\"Unknown label type: %s\"\u001b[0m \u001b[0;34m%\u001b[0m \u001b[0mrepr\u001b[0m\u001b[0;34m(\u001b[0m\u001b[0mys\u001b[0m\u001b[0;34m)\u001b[0m\u001b[0;34m)\u001b[0m\u001b[0;34m\u001b[0m\u001b[0m\n\u001b[0m\u001b[1;32m     98\u001b[0m \u001b[0;34m\u001b[0m\u001b[0m\n\u001b[1;32m     99\u001b[0m     \u001b[0mys_labels\u001b[0m \u001b[0;34m=\u001b[0m \u001b[0mset\u001b[0m\u001b[0;34m(\u001b[0m\u001b[0mchain\u001b[0m\u001b[0;34m.\u001b[0m\u001b[0mfrom_iterable\u001b[0m\u001b[0;34m(\u001b[0m\u001b[0m_unique_labels\u001b[0m\u001b[0;34m(\u001b[0m\u001b[0my\u001b[0m\u001b[0;34m)\u001b[0m \u001b[0;32mfor\u001b[0m \u001b[0my\u001b[0m \u001b[0;32min\u001b[0m \u001b[0mys\u001b[0m\u001b[0;34m)\u001b[0m\u001b[0;34m)\u001b[0m\u001b[0;34m\u001b[0m\u001b[0m\n",
      "\u001b[0;31mValueError\u001b[0m: Unknown label type: (       related  request  offer  aid_related  medical_help  medical_products  \\\n7917         1        0      0            0             0                 0   \n25322        1        0      0            0             0                 0   \n22191        1        0      0            1             0                 0   \n18442        0        0      0            0             0                 0   \n1336         0        0      0            0             0                 0   \n24449        1        0      1            1             1                 0   \n7976         0        0      0            0             0                 0   \n17210        1        0      0            0             0                 0   \n14652        1        0      0            1             0                 0   \n20339        0        0      0            0             0                 0   \n9317         0        0      0            0             0                 0   \n25097        1        0      0            1             1                 1   \n19871        1        0      0            0             0                 0   \n9246         1        0      0            0             0                 0   \n3776         1        1      0            1             1                 0   \n16581        1        0      0            0             0                 0   \n20736        1        0      0            1             0                 0   \n21706        1        0      0            1             0                 0   \n5227         0        0      0            0             0                 0   \n9254         1        0      0            0             0                 0   \n10201        1        0      0            0             0                 0   \n23850        1        0      0            0             0                 0   \n25077        1        0      0            0             0                 0   \n20388        1        0      0            0             0                 0   \n26051        1        0      0            0             0                 0   \n17686        1        0      0            0             0                 0   \n1427         0        0      0            0             0                 0   \n8214         1        0      0            1             0                 0   \n17425        0        0      0            0             0                 0   \n1347         1        0      0            0             0                 0   \n...        ...      ...    ...          ...           ...               ...   \n15993        1        0      0            1             0                 0   \n1476         1        1      0            1             0                 0   \n25700        0        0      0            0             0                 0   \n5748         0        0      0            0             0                 0   \n16867        1        0      0            1             0                 1   \n4731         0        0      0            0             0                 0   \n10746        1        0      0            0             0                 0   \n19712        1        0      0            0             0                 0   \n12821        0        0      0            0             0                 0   \n50           1        0      0            0             0                 0   \n9325         0        0      0            0             0                 0   \n9668         0        0      0            0             0                 0   \n23169        1        0      0            1             0                 0   \n1686         1        1      0            1             0                 0   \n22501        1        0      0            1             0                 0   \n4398         1        1      0            1             0                 0   \n7413         0        0      0            0             0                 0   \n16525        1        0      0            1             1                 0   \n8182         0        0      0            0             0                 0   \n12218        0        0      0            0             0                 0   \n14353        1        0      0            1             1                 0   \n20787        1        0      0            0             0                 0   \n5404         1        1      0            1             0                 0   \n9602         0        0      0            0             0                 0   \n8922         0        0      0            0             0                 0   \n3198         1        1      0            1             0                 0   \n5254         0        0      0            0             0                 0   \n4224         0        0      0            0             0                 0   \n9989         1        0      0            1             0                 0   \n24094        1        0      0            1             0                 0   \n\n       search_and_rescue  security  military  child_alone      ...        \\\n7917                   0         0         0            0      ...         \n25322                  0         0         0            0      ...         \n22191                  0         0         0            0      ...         \n18442                  0         0         0            0      ...         \n1336                   0         0         0            0      ...         \n24449                  0         0         0            0      ...         \n7976                   0         0         0            0      ...         \n17210                  0         0         0            0      ...         \n14652                  0         0         0            0      ...         \n20339                  0         0         0            0      ...         \n9317                   0         0         0            0      ...         \n25097                  0         0         0            0      ...         \n19871                  0         0         0            0      ...         \n9246                   0         0         0            0      ...         \n3776                   0         0         0            0      ...         \n16581                  0         0         0            0      ...         \n20736                  0         0         0            0      ...         \n21706                  0         0         0            0      ...         \n5227                   0         0         0            0      ...         \n9254                   0         0         0            0      ...         \n10201                  0         0         0            0      ...         \n23850                  0         0         0            0      ...         \n25077                  0         0         0            0      ...         \n20388                  0         0         0            0      ...         \n26051                  0         0         0            0      ...         \n17686                  0         0         0            0      ...         \n1427                   0         0         0            0      ...         \n8214                   0         0         1            0      ...         \n17425                  0         0         0            0      ...         \n1347                   0         0         0            0      ...         \n...                  ...       ...       ...          ...      ...         \n15993                  0         0         0            0      ...         \n1476                   0         0         0            0      ...         \n25700                  0         0         0            0      ...         \n5748                   0         0         0            0      ...         \n16867                  0         0         0            0      ...         \n4731                   0         0         0            0      ...         \n10746                  0         0         0            0      ...         \n19712                  0         0         0            0      ...         \n12821                  0         0         0            0      ...         \n50                     0         0         0            0      ...         \n9325                   0         0         0            0      ...         \n9668                   0         0         0            0      ...         \n23169                  0         0         0            0      ...         \n1686                   0         0         0            0      ...         \n22501                  0         0         0            0      ...         \n4398                   0         0         0            0      ...         \n7413                   0         0         0            0      ...         \n16525                  0         0         0            0      ...         \n8182                   0         0         0            0      ...         \n12218                  0         0         0            0      ...         \n14353                  0         0         0            0      ...         \n20787                  0         0         0            0      ...         \n5404                   0         0         0            0      ...         \n9602                   0         0         0            0      ...         \n8922                   0         0         0            0      ...         \n3198                   0         0         0            0      ...         \n5254                   0         0         0            0      ...         \n4224                   0         0         0            0      ...         \n9989                   0         0         0            0      ...         \n24094                  0         0         1            0      ...         \n\n       aid_centers  other_infrastructure  weather_related  floods  storm  \\\n7917             0                     0                0       0      0   \n25322            0                     0                0       0      0   \n22191            0                     0                1       0      0   \n18442            0                     0                0       0      0   \n1336             0                     0                0       0      0   \n24449            0                     0                0       0      0   \n7976             0                     0                0       0      0   \n17210            0                     0                1       0      1   \n14652            0                     0                1       0      0   \n20339            0                     0                0       0      0   \n9317             0                     0                0       0      0   \n25097            0                     0                0       0      0   \n19871            0                     1                0       0      0   \n9246             0                     0                0       0      0   \n3776             0                     0                0       0      0   \n16581            0                     0                1       0      0   \n20736            0                     0                0       0      0   \n21706            0                     0                0       0      0   \n5227             0                     0                0       0      0   \n9254             0                     0                1       0      1   \n10201            0                     0                1       0      0   \n23850            0                     0                0       0      0   \n25077            0                     0                0       0      0   \n20388            0                     0                0       0      0   \n26051            0                     0                0       0      0   \n17686            0                     0                0       0      0   \n1427             0                     0                0       0      0   \n8214             0                     0                1       0      0   \n17425            0                     0                0       0      0   \n1347             0                     0                0       0      0   \n...            ...                   ...              ...     ...    ...   \n15993            0                     0                1       0      1   \n1476             0                     0                0       0      0   \n25700            0                     0                0       0      0   \n5748             0                     0                0       0      0   \n16867            0                     0                1       1      0   \n4731             0                     0                0       0      0   \n10746            0                     0                0       0      0   \n19712            0                     0                0       0      0   \n12821            0                     0                0       0      0   \n50               0                     0                0       0      0   \n9325             0                     0                0       0      0   \n9668             0                     0                0       0      0   \n23169            0                     0                0       0      0   \n1686             0                     0                0       0      0   \n22501            1                     0                1       1      1   \n4398             0                     0                0       0      0   \n7413             0                     0                0       0      0   \n16525            0                     0                0       0      0   \n8182             0                     0                0       0      0   \n12218            0                     0                0       0      0   \n14353            0                     0                1       0      0   \n20787            0                     0                0       0      0   \n5404             0                     0                0       0      0   \n9602             0                     0                0       0      0   \n8922             0                     0                0       0      0   \n3198             0                     0                0       0      0   \n5254             0                     0                0       0      0   \n4224             0                     0                0       0      0   \n9989             0                     0                1       0      0   \n24094            0                     0                0       0      0   \n\n       fire  earthquake  cold  other_weather  direct_report  \n7917      0           0     0              0              0  \n25322     0           0     0              0              0  \n22191     0           0     1              1              0  \n18442     0           0     0              0              0  \n1336      0           0     0              0              0  \n24449     0           0     0              0              0  \n7976      0           0     0              0              0  \n17210     0           0     0              0              1  \n14652     0           1     0              0              0  \n20339     0           0     0              0              0  \n9317      0           0     0              0              0  \n25097     0           0     0              0              0  \n19871     0           0     0              0              0  \n9246      0           0     0              0              0  \n3776      0           0     0              0              1  \n16581     1           0     0              0              0  \n20736     0           0     0              0              0  \n21706     0           0     0              0              0  \n5227      0           0     0              0              0  \n9254      0           0     0              1              0  \n10201     0           1     0              1              0  \n23850     0           0     0              0              0  \n25077     0           0     0              0              1  \n20388     0           0     0              0              0  \n26051     0           0     0              0              0  \n17686     0           0     0              0              0  \n1427      0           0     0              0              0  \n8214      0           0     1              0              1  \n17425     0           0     0              0              0  \n1347      0           0     0              0              0  \n...     ...         ...   ...            ...            ...  \n15993     0           0     0              0              0  \n1476      0           0     0              0              1  \n25700     0           0     0              0              0  \n5748      0           0     0              0              0  \n16867     0           0     0              0              0  \n4731      0           0     0              0              0  \n10746     0           0     0              0              1  \n19712     0           0     0              0              0  \n12821     0           0     0              0              0  \n50        0           0     0              0              0  \n9325      0           0     0              0              0  \n9668      0           0     0              0              0  \n23169     0           0     0              0              0  \n1686      0           0     0              0              1  \n22501     0           1     0              0              0  \n4398      0           0     0              0              1  \n7413      0           0     0              0              0  \n16525     0           0     0              0              0  \n8182      0           0     0              0              0  \n12218     0           0     0              0              0  \n14353     0           1     0              0              0  \n20787     0           0     0              0              0  \n5404      0           0     0              0              1  \n9602      0           0     0              0              0  \n8922      0           0     0              0              0  \n3198      0           0     0              0              1  \n5254      0           0     0              0              0  \n4224      0           0     0              0              0  \n9989      0           1     0              0              0  \n24094     0           0     0              0              0  \n\n[8652 rows x 36 columns], array([[1, 0, 0, ..., 0, 0, 0],\n       [1, 0, 0, ..., 0, 0, 0],\n       [1, 0, 0, ..., 0, 0, 0],\n       ..., \n       [1, 0, 0, ..., 0, 0, 0],\n       [1, 0, 0, ..., 0, 0, 0],\n       [1, 0, 0, ..., 0, 0, 0]]))"
     ]
    }
   ],
   "source": [
    "target_names = y.columns\n",
    "print(classification_report(y_test, y_pred, target_names=target_names))"
   ]
  },
  {
   "cell_type": "markdown",
   "metadata": {},
   "source": [
    "### 9. Export your model as a pickle file"
   ]
  },
  {
   "cell_type": "code",
   "execution_count": 34,
   "metadata": {},
   "outputs": [],
   "source": [
    "with open('MLclassifier.pkl', 'wb') as file:\n",
    "    pickle.dump(cv, file)"
   ]
  },
  {
   "cell_type": "code",
   "execution_count": 35,
   "metadata": {},
   "outputs": [
    {
     "name": "stderr",
     "output_type": "stream",
     "text": [
      "/opt/conda/lib/python3.6/site-packages/sklearn/model_selection/_search.py:761: DeprecationWarning: The grid_scores_ attribute was deprecated in version 0.18 in favor of the more elaborate cv_results_ attribute. The grid_scores_ attribute will not be available from 0.20\n",
      "  DeprecationWarning)\n"
     ]
    },
    {
     "data": {
      "text/plain": [
       "[mean: 0.22130, std: 0.00639, params: {'clf__estimator__criterion': 'gini', 'tfidf__norm': 'l1'},\n",
       " mean: 0.22706, std: 0.00363, params: {'clf__estimator__criterion': 'gini', 'tfidf__norm': 'l2'},\n",
       " mean: 0.21726, std: 0.00196, params: {'clf__estimator__criterion': 'entropy', 'tfidf__norm': 'l1'},\n",
       " mean: 0.21504, std: 0.00168, params: {'clf__estimator__criterion': 'entropy', 'tfidf__norm': 'l2'}]"
      ]
     },
     "execution_count": 35,
     "metadata": {},
     "output_type": "execute_result"
    }
   ],
   "source": [
    "cv.grid_scores_"
   ]
  },
  {
   "cell_type": "code",
   "execution_count": 36,
   "metadata": {},
   "outputs": [
    {
     "data": {
      "text/plain": [
       "Pipeline(memory=None,\n",
       "     steps=[('vect', CountVectorizer(analyzer='word', binary=False, decode_error='strict',\n",
       "        dtype=<class 'numpy.int64'>, encoding='utf-8', input='content',\n",
       "        lowercase=True, max_df=1.0, max_features=None, min_df=1,\n",
       "        ngram_range=(1, 1), preprocessor=None, stop_words=None,\n",
       "        strip...oob_score=False, random_state=None, verbose=0,\n",
       "            warm_start=False),\n",
       "           n_jobs=1))])"
      ]
     },
     "execution_count": 36,
     "metadata": {},
     "output_type": "execute_result"
    }
   ],
   "source": [
    "cv.best_estimator_"
   ]
  },
  {
   "cell_type": "markdown",
   "metadata": {},
   "source": [
    "### 10. Use this notebook to complete `train.py`\n",
    "Use the template file attached in the Resources folder to write a script that runs the steps above to create a database and export a model based on a new dataset specified by the user."
   ]
  }
 ],
 "metadata": {
  "kernelspec": {
   "display_name": "Python 3",
   "language": "python",
   "name": "python3"
  },
  "language_info": {
   "codemirror_mode": {
    "name": "ipython",
    "version": 3
   },
   "file_extension": ".py",
   "mimetype": "text/x-python",
   "name": "python",
   "nbconvert_exporter": "python",
   "pygments_lexer": "ipython3",
   "version": "3.6.3"
  }
 },
 "nbformat": 4,
 "nbformat_minor": 2
}
